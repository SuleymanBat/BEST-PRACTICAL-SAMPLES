{
  "nbformat": 4,
  "nbformat_minor": 0,
  "metadata": {
    "colab": {
      "name": "Armstrongnumbers.ipynb",
      "provenance": [],
      "collapsed_sections": [],
      "authorship_tag": "ABX9TyMhXpOVGoHkbUxzkhI1q8ze",
      "include_colab_link": true
    },
    "kernelspec": {
      "name": "python3",
      "display_name": "Python 3"
    },
    "language_info": {
      "name": "python"
    }
  },
  "cells": [
    {
      "cell_type": "markdown",
      "metadata": {
        "id": "view-in-github",
        "colab_type": "text"
      },
      "source": [
        "<a href=\"https://colab.research.google.com/github/SuleymanBat/BEST-PRACTICAL-SAMPLES/blob/main/Armstrongnumbers.ipynb\" target=\"_parent\"><img src=\"https://colab.research.google.com/assets/colab-badge.svg\" alt=\"Open In Colab\"/></a>"
      ]
    },
    {
      "cell_type": "markdown",
      "source": [
        "# TASK:\n",
        "\n",
        "# Find out if a given number is an \"Armstrong Number\".\n",
        "\n",
        "# An n-digit number that is the sum of the nth powers of its digits is called an n-Armstrong number. Examples :\n",
        "# 1. 371 = 3 ** 3 + 7 ** 3 + 1 ** 3;\n",
        "# 2. 9474 = 9 ** 4 + 4 ** 4 + 7 ** 4 + 4 ** 4;\n",
        "# 3. 93084 = 9 ** 5 + 3 ** 5 + 0 ** 5 + 8 ** 5 + 4 ** 5.\n",
        "\n",
        "# Write a Python program that;\n",
        "# takes a positive integer number from the user,\n",
        "# checks the entered number if it is Armstrong,\n",
        "# consider the negative, float and any entries other than numeric values then display a warning message to the user."
      ],
      "metadata": {
        "id": "2pvewPjS5rSN"
      }
    },
    {
      "cell_type": "code",
      "execution_count": null,
      "metadata": {
        "id": "-tZKyjeq5nNr"
      },
      "outputs": [],
      "source": [
        "armstr = input(\"give me a nummer: \")\n",
        "if armstr.isnumeric():\n",
        "  numbers = [int(i) for i in armstr]\n",
        "  aim = 0\n",
        "  for k in numbers:\n",
        "    aim += k**len(numbers)\n",
        "    sez = int(armstr)\n",
        "  if aim == sez: \n",
        "    print(sez, \"is an Armstrong number\")\n",
        "  elif aim != sez:\n",
        "    print(sez, \"is not an Armstrong number\")\n",
        "else:\n",
        "  print(\"It is an invalid entry. Don't use non-numeric,float, or negativ values!\")"
      ]
    }
  ]
}